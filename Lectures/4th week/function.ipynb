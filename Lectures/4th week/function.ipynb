{
 "cells": [
  {
   "cell_type": "code",
   "execution_count": null,
   "id": "07c05908",
   "metadata": {},
   "outputs": [
    {
     "name": "stdout",
     "output_type": "stream",
     "text": [
      "hi\n",
      "My name is Python\n",
      "hi\n",
      "My name is Python\n"
     ]
    }
   ],
   "source": [
    "def hi():\n",
    "  print(\"hi\")\n",
    "  print(\"My name is Python\")\n",
    "\n",
    "\n",
    "hi()\n",
    "hi()"
   ]
  },
  {
   "cell_type": "code",
   "execution_count": null,
   "id": "6442666e",
   "metadata": {},
   "outputs": [
    {
     "name": "stdout",
     "output_type": "stream",
     "text": [
      "wow world of function is amazing!!!\n"
     ]
    }
   ],
   "source": [
    "def custom_function():\n",
    "  print(\"wow world of function is amazing!!!\")\n",
    "\n",
    "\n",
    "custom_function()"
   ]
  },
  {
   "cell_type": "code",
   "execution_count": null,
   "id": "80be87b8",
   "metadata": {},
   "outputs": [
    {
     "name": "stdout",
     "output_type": "stream",
     "text": [
      "hi\n",
      "My name is aaa\n"
     ]
    }
   ],
   "source": [
    "def hi(name):\n",
    "  print(\"hi\")\n",
    "  print(\"My name is\", name)\n",
    "\n",
    "\n",
    "hi(\"aaa\")"
   ]
  },
  {
   "cell_type": "code",
   "execution_count": null,
   "id": "db1eacde",
   "metadata": {},
   "outputs": [
    {
     "name": "stdout",
     "output_type": "stream",
     "text": [
      "hi\n",
      "My name is 고라니 and My job is programmer !\n"
     ]
    }
   ],
   "source": [
    "def hi_2(name, job):\n",
    "  print(\"hi\")\n",
    "  print(\"My name is\", name, \"and My job is\", job, \"!\")\n",
    "\n",
    "\n",
    "hi_2(\"고라니\", \"programmer\")"
   ]
  },
  {
   "cell_type": "code",
   "execution_count": null,
   "id": "5b2bd523",
   "metadata": {},
   "outputs": [],
   "source": [
    "lumps02@gachon.ac.kr"
   ]
  }
 ],
 "metadata": {
  "kernelspec": {
   "display_name": "univ-programming1 (3.13.7)",
   "language": "python",
   "name": "python3"
  },
  "language_info": {
   "codemirror_mode": {
    "name": "ipython",
    "version": 3
   },
   "file_extension": ".py",
   "mimetype": "text/x-python",
   "name": "python",
   "nbconvert_exporter": "python",
   "pygments_lexer": "ipython3",
   "version": "3.13.7"
  }
 },
 "nbformat": 4,
 "nbformat_minor": 5
}
