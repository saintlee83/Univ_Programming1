{
 "cells": [
  {
   "cell_type": "markdown",
   "id": "8f92bb63",
   "metadata": {},
   "source": [
    "# Functions\n"
   ]
  },
  {
   "cell_type": "markdown",
   "id": "7250572e",
   "metadata": {},
   "source": [
    "## 단축키 역할을 하는 사용자 정의 함수\n",
    "\n",
    "확실하게 하기 위해서 네임스페이스, 프레임, 스코프에 대한 개념을 이해하고 보면 좋음\n"
   ]
  },
  {
   "cell_type": "markdown",
   "id": "09499aa0",
   "metadata": {},
   "source": [
    "### Page 10\n"
   ]
  },
  {
   "cell_type": "code",
   "execution_count": null,
   "id": "ff77759a",
   "metadata": {},
   "outputs": [
    {
     "name": "stdout",
     "output_type": "stream",
     "text": [
      "합격입니다! 점수는 82.5\n"
     ]
    }
   ],
   "source": [
    "# 점수 계산 함수 정의: 국어 30%, 영어 30%, 수학 40% 가중치로 합산\n",
    "def calculate_score(kor, eng, mat):\n",
    "  score = kor * 0.3 + eng * 0.3 + mat * 0.4\n",
    "  return score\n",
    "\n",
    "\n",
    "# 학생1의 점수 계산 (국어 99, 영어 80, 수학 72)\n",
    "student1 = calculate_score(99, 80, 72)\n",
    "\n",
    "# 80점 이상이면 합격, 미만이면 탈락 판정\n",
    "if student1 > 80:\n",
    "  print('합격입니다! 점수는', student1)\n",
    "else:\n",
    "  print('탈락입니다. 점수는', student1)"
   ]
  },
  {
   "cell_type": "code",
   "execution_count": null,
   "id": "8897f7d7",
   "metadata": {},
   "outputs": [
    {
     "name": "stdout",
     "output_type": "stream",
     "text": [
      "환산점수 : 82.5 합격 여부 : yes\n"
     ]
    }
   ],
   "source": [
    "# 점수 계산 및 합격 여부를 함께 반환하는 함수\n",
    "def calculate_score_pass(kor, eng, mat):\n",
    "  # 가중평균으로 환산 점수 계산\n",
    "  score = kor * 0.3 + eng * 0.3 + mat * 0.4\n",
    "  # 80점 이상이면 합격(yes), 미만이면 불합격(no)\n",
    "  if score > 80:\n",
    "    pass_yn = 'yes'\n",
    "  else:\n",
    "    pass_yn = 'no'\n",
    "  # 환산 점수와 합격 여부를 튜플로 반환\n",
    "  return score, pass_yn\n",
    "\n",
    "\n",
    "# 함수 호출 및 반환값 언팩\n",
    "stu1_score, stu1_pass = calculate_score_pass(99, 80, 72)\n",
    "# 환산 점수와 합격 여부 출력\n",
    "print('환산점수 :', stu1_score, '합격 여부 :', stu1_pass)"
   ]
  },
  {
   "cell_type": "markdown",
   "id": "76a977e8",
   "metadata": {},
   "source": [
    "### Page 13\n"
   ]
  },
  {
   "cell_type": "code",
   "execution_count": null,
   "id": "1d67e0ee",
   "metadata": {},
   "outputs": [
    {
     "name": "stdout",
     "output_type": "stream",
     "text": [
      "자기소개를 시작합니다.\n",
      "hi\n",
      "My name is ㅇ !\n"
     ]
    },
    {
     "ename": "NameError",
     "evalue": "name 'name' is not defined",
     "output_type": "error",
     "traceback": [
      "\u001b[31m---------------------------------------------------------------------------\u001b[39m",
      "\u001b[31mNameError\u001b[39m                                 Traceback (most recent call last)",
      "\u001b[36mCell\u001b[39m\u001b[36m \u001b[39m\u001b[32mIn[8]\u001b[39m\u001b[32m, line 8\u001b[39m\n\u001b[32m      6\u001b[39m \u001b[38;5;28mprint\u001b[39m(\u001b[33m'\u001b[39m\u001b[33m자기소개를 시작합니다.\u001b[39m\u001b[33m'\u001b[39m)\n\u001b[32m      7\u001b[39m hi()\n\u001b[32m----> \u001b[39m\u001b[32m8\u001b[39m \u001b[38;5;28mprint\u001b[39m(\u001b[43mname\u001b[49m, \u001b[33m'\u001b[39m\u001b[33m님 안녕하세요\u001b[39m\u001b[33m'\u001b[39m)\n",
      "\u001b[31mNameError\u001b[39m: name 'name' is not defined"
     ]
    }
   ],
   "source": [
    "# 지역 변수 이슈 예시: 함수 내 변수는 함수 외부에서 접근 불가\n",
    "def hi():\n",
    "  # 함수 내에서만 유효한 지역 변수 name\n",
    "  name = input('이름은? ')\n",
    "  print('hi')\n",
    "  print('My name is', name, '!')\n",
    "\n",
    "\n",
    "print('자기소개를 시작합니다.')\n",
    "# 함수 호출\n",
    "hi()\n",
    "# 주의: 여기서 name은 정의되지 않았으므로 에러 발생\n",
    "print(name, '님 안녕하세요')"
   ]
  },
  {
   "cell_type": "code",
   "execution_count": null,
   "id": "b16b9aae",
   "metadata": {},
   "outputs": [
    {
     "name": "stdout",
     "output_type": "stream",
     "text": [
      "hi\n",
      "My name is  !\n",
      " 님 안녕하세요\n"
     ]
    }
   ],
   "source": [
    "# 지역 변수를 함수의 반환값으로 사용\n",
    "def hi():\n",
    "  # 사용자로부터 이름 입력\n",
    "  name = input('이름은? ')\n",
    "  print('hi')\n",
    "  print('My name is', name, '!')\n",
    "  # 지역 변수 name을 반환\n",
    "  return name\n",
    "\n",
    "\n",
    "# 함수에서 반환된 값을 전역 변수 person에 저장\n",
    "person = hi()\n",
    "# 이제 전역 변수 person을 사용 가능\n",
    "print(person, '님 안녕하세요')"
   ]
  },
  {
   "cell_type": "markdown",
   "id": "1a7e017a",
   "metadata": {},
   "source": [
    "### Page 15\n"
   ]
  },
  {
   "cell_type": "markdown",
   "id": "d3a845ce",
   "metadata": {},
   "source": [
    "#### 지역 변수 전역 변수 기초\n"
   ]
  },
  {
   "cell_type": "code",
   "execution_count": null,
   "id": "8eed9cfb",
   "metadata": {},
   "outputs": [
    {
     "ename": "UnboundLocalError",
     "evalue": "cannot access local variable 'a' where it is not associated with a value",
     "output_type": "error",
     "traceback": [
      "\u001b[31m---------------------------------------------------------------------------\u001b[39m",
      "\u001b[31mUnboundLocalError\u001b[39m                         Traceback (most recent call last)",
      "\u001b[36mCell\u001b[39m\u001b[36m \u001b[39m\u001b[32mIn[13]\u001b[39m\u001b[32m, line 8\u001b[39m\n\u001b[32m      5\u001b[39m     \u001b[38;5;28mprint\u001b[39m(a, b)\n\u001b[32m      7\u001b[39m a, b = \u001b[32m5\u001b[39m, \u001b[32m10\u001b[39m\n\u001b[32m----> \u001b[39m\u001b[32m8\u001b[39m \u001b[43mfunc1\u001b[49m\u001b[43m(\u001b[49m\u001b[43m)\u001b[49m        \u001b[38;5;66;03m# UnboundLocalError 발생\u001b[39;00m\n",
      "\u001b[36mCell\u001b[39m\u001b[36m \u001b[39m\u001b[32mIn[13]\u001b[39m\u001b[32m, line 3\u001b[39m, in \u001b[36mfunc1\u001b[39m\u001b[34m()\u001b[39m\n\u001b[32m      2\u001b[39m \u001b[38;5;28;01mdef\u001b[39;00m\u001b[38;5;250m \u001b[39m\u001b[34mfunc1\u001b[39m():\n\u001b[32m----> \u001b[39m\u001b[32m3\u001b[39m     \u001b[43ma\u001b[49m += \u001b[32m2\u001b[39m     \u001b[38;5;66;03m# 지역에서 a를 먼저 읽어야 하므로 에러\u001b[39;00m\n\u001b[32m      4\u001b[39m     b *= \u001b[32m2\u001b[39m\n\u001b[32m      5\u001b[39m     \u001b[38;5;28mprint\u001b[39m(a, b)\n",
      "\u001b[31mUnboundLocalError\u001b[39m: cannot access local variable 'a' where it is not associated with a value"
     ]
    }
   ],
   "source": [
    "# [1] 지역변수로 간주되어 에러가 나는 경우\n",
    "def func1():\n",
    "  # 함수 내에서 a를 수정하려 하면 a는 지역변수로 간주됨\n",
    "  # 그런데 a를 읽기 전에 수정하려고 해서 UnboundLocalError 발생\n",
    "  a += 2     # 지역에서 a를 먼저 읽어야 하므로 에러\n",
    "  b *= 2\n",
    "  print(a, b)\n",
    "\n",
    "\n",
    "# 전역 변수 a, b 정의\n",
    "a, b = 5, 10\n",
    "# UnboundLocalError 발생\n",
    "func1()"
   ]
  },
  {
   "cell_type": "code",
   "execution_count": null,
   "id": "1c9b1723",
   "metadata": {},
   "outputs": [
    {
     "name": "stdout",
     "output_type": "stream",
     "text": [
      "5 10\n"
     ]
    }
   ],
   "source": [
    "# [2] 함수 안에서 값을 바꾸지 않고 그대로 출력 (수정 코드 주석 처리)\n",
    "def func1():\n",
    "  # 전역 변수 a, b를 읽기만 함 (수정하지 않음)\n",
    "  # a += 2\n",
    "  # b *= 2\n",
    "  print(a, b)\n",
    "\n",
    "\n",
    "# 전역 변수 a, b 정의\n",
    "a, b = 5, 10\n",
    "# 함수 호출 - 전역 변수 값 그대로 출력\n",
    "func1()        # 출력: 5 10"
   ]
  },
  {
   "cell_type": "code",
   "execution_count": null,
   "id": "84a9d69c",
   "metadata": {},
   "outputs": [
    {
     "name": "stdout",
     "output_type": "stream",
     "text": [
      "7 20\n"
     ]
    }
   ],
   "source": [
    "# [3] global을 사용해 전역 변수 값을 수정\n",
    "def func1():\n",
    "  # global 키워드로 a, b가 전역 변수임을 명시\n",
    "  global a, b\n",
    "  # 이제 a, b를 전역 변수로 수정 가능\n",
    "  a += 2\n",
    "  b *= 2\n",
    "  print(a, b)\n",
    "\n",
    "\n",
    "# 전역 변수 a, b 정의\n",
    "a, b = 5, 10\n",
    "# 함수 호출 - 전역 변수 값 변경됨\n",
    "func1()        # 출력: 7 20"
   ]
  },
  {
   "cell_type": "code",
   "execution_count": null,
   "id": "65b603b5",
   "metadata": {},
   "outputs": [
    {
     "name": "stdout",
     "output_type": "stream",
     "text": [
      "7 20\n",
      "9 40\n",
      "11 80\n",
      "13 160\n",
      "15 320\n"
     ]
    }
   ],
   "source": [
    "# [4] global + 반복 호출로 누적 변화 관찰\n",
    "def func1():\n",
    "  # 전역 변수 a, b를 명시적으로 선언\n",
    "  global a, b\n",
    "  # 각 호출마다 전역 변수 값이 누적되어 변함\n",
    "  a += 2\n",
    "  b *= 2\n",
    "  print(a, b)\n",
    "\n",
    "\n",
    "# 전역 변수 a, b 초기값 설정\n",
    "a, b = 5, 10\n",
    "# 함수를 5번 반복 호출하면서 누적 변화 관찰\n",
    "for i in range(5):\n",
    "  func1()\n",
    "# 출력:\n",
    "# 7 20\n",
    "# 9 40\n",
    "# 11 80\n",
    "# 13 160\n",
    "# 15 320"
   ]
  },
  {
   "cell_type": "markdown",
   "id": "ae90c671",
   "metadata": {},
   "source": [
    "### page 17\n",
    "\n",
    "#### 지역 변수와 전역 변수\n"
   ]
  },
  {
   "cell_type": "code",
   "execution_count": null,
   "id": "554461a4",
   "metadata": {},
   "outputs": [
    {
     "ename": "UnboundLocalError",
     "evalue": "cannot access local variable 'current_point' where it is not associated with a value",
     "output_type": "error",
     "traceback": [
      "\u001b[31m---------------------------------------------------------------------------\u001b[39m",
      "\u001b[31mUnboundLocalError\u001b[39m                         Traceback (most recent call last)",
      "\u001b[36mCell\u001b[39m\u001b[36m \u001b[39m\u001b[32mIn[11]\u001b[39m\u001b[32m, line 11\u001b[39m\n\u001b[32m      7\u001b[39m     \u001b[38;5;28;01mreturn\u001b[39;00m current_point\n\u001b[32m     10\u001b[39m current_point = \u001b[32m5\u001b[39m\n\u001b[32m---> \u001b[39m\u001b[32m11\u001b[39m \u001b[43mreward_penalty\u001b[49m\u001b[43m(\u001b[49m\u001b[33;43m'\u001b[39;49m\u001b[33;43m상점\u001b[39;49m\u001b[33;43m'\u001b[39;49m\u001b[43m,\u001b[49m\u001b[43m \u001b[49m\u001b[32;43m5\u001b[39;49m\u001b[43m)\u001b[49m\n\u001b[32m     12\u001b[39m \u001b[38;5;28mprint\u001b[39m(\u001b[33m'\u001b[39m\u001b[33m최종 점수 :\u001b[39m\u001b[33m'\u001b[39m, current_point)\n",
      "\u001b[36mCell\u001b[39m\u001b[36m \u001b[39m\u001b[32mIn[11]\u001b[39m\u001b[32m, line 2\u001b[39m, in \u001b[36mreward_penalty\u001b[39m\u001b[34m(kind, points)\u001b[39m\n\u001b[32m      1\u001b[39m \u001b[38;5;28;01mdef\u001b[39;00m\u001b[38;5;250m \u001b[39m\u001b[34mreward_penalty\u001b[39m(kind, points):\n\u001b[32m----> \u001b[39m\u001b[32m2\u001b[39m     \u001b[38;5;28mprint\u001b[39m(\u001b[33m'\u001b[39m\u001b[33m현재 점수 :\u001b[39m\u001b[33m'\u001b[39m, \u001b[43mcurrent_point\u001b[49m)\n\u001b[32m      3\u001b[39m     \u001b[38;5;28;01mif\u001b[39;00m kind == \u001b[33m'\u001b[39m\u001b[33m상점\u001b[39m\u001b[33m'\u001b[39m:\n\u001b[32m      4\u001b[39m         current_point += points\n",
      "\u001b[31mUnboundLocalError\u001b[39m: cannot access local variable 'current_point' where it is not associated with a value"
     ]
    }
   ],
   "source": [
    "# 상점/벌점 적용 함수 (global 미사용 - 에러 발생)\n",
    "def reward_penalty(kind, points):\n",
    "  # 함수 내에서 current_point 읽기만 시도\n",
    "  print('현재 점수 :', current_point)\n",
    "  # 전역 변수를 수정하려고 시도하면 에러 발생\n",
    "  if kind == '상점':\n",
    "    current_point += points\n",
    "  elif kind == '벌점':\n",
    "    current_point -= points\n",
    "  return current_point\n",
    "\n",
    "\n",
    "# 전역 변수 current_point 초기값\n",
    "current_point = 5\n",
    "# 함수 호출 - UnboundLocalError 발생\n",
    "reward_penalty('상점', 5)\n",
    "print('최종 점수 :', current_point)"
   ]
  },
  {
   "cell_type": "code",
   "execution_count": null,
   "id": "a7f92899",
   "metadata": {},
   "outputs": [
    {
     "name": "stdout",
     "output_type": "stream",
     "text": [
      "현재 점수 : 5\n",
      "상점 입력 후 점수 : 10\n",
      "최종 점수 : 10\n"
     ]
    }
   ],
   "source": [
    "# 상점/벌점 적용 함수 (global 사용 - 정상 작동)\n",
    "def reward_penalty(kind, points):\n",
    "  # global 키워드로 current_point가 전역 변수임을 명시\n",
    "  global current_point\n",
    "  # 현재 점수 출력\n",
    "  print('현재 점수 :', current_point)\n",
    "\n",
    "  # 상점인 경우 점수 증가\n",
    "  if kind == '상점':\n",
    "    current_point += points\n",
    "    print('상점 입력 후 점수 :', current_point)\n",
    "  # 벌점인 경우 점수 감소\n",
    "  elif kind == '벌점':\n",
    "    current_point -= points\n",
    "    print('벌점 입력 후 점수 :', current_point)\n",
    "\n",
    "  # 수정된 점수 반환\n",
    "  return current_point\n",
    "\n",
    "\n",
    "# 전역 변수 current_point 초기값 설정\n",
    "current_point = 5\n",
    "# 함수 호출 - 정상적으로 전역 변수 수정\n",
    "reward_penalty('상점', 5)\n",
    "# 변경된 전역 변수 값 출력\n",
    "print('최종 점수 :', current_point)"
   ]
  },
  {
   "cell_type": "code",
   "execution_count": null,
   "id": "1e6520ce",
   "metadata": {},
   "outputs": [],
   "source": []
  }
 ],
 "metadata": {
  "kernelspec": {
   "display_name": "univ-programming1 (3.13.7)",
   "language": "python",
   "name": "python3"
  },
  "language_info": {
   "codemirror_mode": {
    "name": "ipython",
    "version": 3
   },
   "file_extension": ".py",
   "mimetype": "text/x-python",
   "name": "python",
   "nbconvert_exporter": "python",
   "pygments_lexer": "ipython3",
   "version": "3.13.7"
  }
 },
 "nbformat": 4,
 "nbformat_minor": 5
}
