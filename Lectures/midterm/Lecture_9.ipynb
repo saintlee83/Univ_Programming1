{
 "cells": [
  {
   "cell_type": "markdown",
   "id": "b62918f4",
   "metadata": {},
   "source": [
    "# 9장\n"
   ]
  },
  {
   "cell_type": "markdown",
   "id": "d7754881",
   "metadata": {},
   "source": [
    "card.csv의 생김세\n"
   ]
  },
  {
   "cell_type": "code",
   "execution_count": 1,
   "id": "c8000805",
   "metadata": {},
   "outputs": [],
   "source": [
    "import pandas as pd\n",
    "\n",
    "pd = pd.read_csv(\"./data/card.csv\")"
   ]
  },
  {
   "cell_type": "code",
   "execution_count": 2,
   "id": "c33794fe",
   "metadata": {},
   "outputs": [
    {
     "data": {
      "text/html": [
       "<div>\n",
       "<style scoped>\n",
       "    .dataframe tbody tr th:only-of-type {\n",
       "        vertical-align: middle;\n",
       "    }\n",
       "\n",
       "    .dataframe tbody tr th {\n",
       "        vertical-align: top;\n",
       "    }\n",
       "\n",
       "    .dataframe thead th {\n",
       "        text-align: right;\n",
       "    }\n",
       "</style>\n",
       "<table border=\"1\" class=\"dataframe\">\n",
       "  <thead>\n",
       "    <tr style=\"text-align: right;\">\n",
       "      <th></th>\n",
       "      <th>이용일시</th>\n",
       "      <th>승인번호</th>\n",
       "      <th>본인구분</th>\n",
       "      <th>브랜드</th>\n",
       "      <th>이용카드</th>\n",
       "      <th>가맹점명</th>\n",
       "      <th>이용금액</th>\n",
       "      <th>이용구분</th>\n",
       "      <th>매입상태</th>\n",
       "    </tr>\n",
       "  </thead>\n",
       "  <tbody>\n",
       "    <tr>\n",
       "      <th>0</th>\n",
       "      <td>2019/10/12  09:13</td>\n",
       "      <td>1972753</td>\n",
       "      <td>본</td>\n",
       "      <td>S&amp;</td>\n",
       "      <td>185</td>\n",
       "      <td>네이버파이낸셜(주)</td>\n",
       "      <td>546800</td>\n",
       "      <td>일시불(A)</td>\n",
       "      <td>부분취소</td>\n",
       "    </tr>\n",
       "    <tr>\n",
       "      <th>1</th>\n",
       "      <td>2019/10/12  11:56</td>\n",
       "      <td>3399357</td>\n",
       "      <td>본</td>\n",
       "      <td>S&amp;</td>\n",
       "      <td>185</td>\n",
       "      <td>GS  샵</td>\n",
       "      <td>60440</td>\n",
       "      <td>일시불(A)</td>\n",
       "      <td>전표매입</td>\n",
       "    </tr>\n",
       "    <tr>\n",
       "      <th>2</th>\n",
       "      <td>2019/10/13  09:16</td>\n",
       "      <td>12621902</td>\n",
       "      <td>본</td>\n",
       "      <td>S&amp;</td>\n",
       "      <td>185</td>\n",
       "      <td>G마켓</td>\n",
       "      <td>91520</td>\n",
       "      <td>P(A)</td>\n",
       "      <td>전표매입</td>\n",
       "    </tr>\n",
       "    <tr>\n",
       "      <th>3</th>\n",
       "      <td>2019/10/14  01:32</td>\n",
       "      <td>20726947</td>\n",
       "      <td>본</td>\n",
       "      <td>S&amp;</td>\n",
       "      <td>185</td>\n",
       "      <td>11번가</td>\n",
       "      <td>89810</td>\n",
       "      <td>일시불(A)</td>\n",
       "      <td>전표매입</td>\n",
       "    </tr>\n",
       "    <tr>\n",
       "      <th>4</th>\n",
       "      <td>2019/10/14  07:06</td>\n",
       "      <td>21234320</td>\n",
       "      <td>본</td>\n",
       "      <td>S&amp;</td>\n",
       "      <td>185</td>\n",
       "      <td>네이버파이낸셜(주)</td>\n",
       "      <td>33600</td>\n",
       "      <td>일시불(A)</td>\n",
       "      <td>전표매입</td>\n",
       "    </tr>\n",
       "  </tbody>\n",
       "</table>\n",
       "</div>"
      ],
      "text/plain": [
       "                이용일시      승인번호 본인구분 브랜드  이용카드        가맹점명    이용금액    이용구분  \\\n",
       "0  2019/10/12  09:13   1972753    본  S&   185  네이버파이낸셜(주)  546800  일시불(A)   \n",
       "1  2019/10/12  11:56   3399357    본  S&   185       GS  샵   60440  일시불(A)   \n",
       "2  2019/10/13  09:16  12621902    본  S&   185         G마켓   91520    P(A)   \n",
       "3  2019/10/14  01:32  20726947    본  S&   185        11번가   89810  일시불(A)   \n",
       "4  2019/10/14  07:06  21234320    본  S&   185  네이버파이낸셜(주)   33600  일시불(A)   \n",
       "\n",
       "   매입상태  \n",
       "0  부분취소  \n",
       "1  전표매입  \n",
       "2  전표매입  \n",
       "3  전표매입  \n",
       "4  전표매입  "
      ]
     },
     "execution_count": 2,
     "metadata": {},
     "output_type": "execute_result"
    }
   ],
   "source": [
    "pd.head()"
   ]
  },
  {
   "cell_type": "code",
   "execution_count": null,
   "id": "0637983e",
   "metadata": {},
   "outputs": [],
   "source": [
    "import csv\n",
    "\n",
    "with open('./data/card.csv', 'r') as file:\n",
    "  data = csv.reader(file)\n",
    "  next(data)  # <-- 이 함수의 역할이 무엇인지\n",
    "  data = list(data)"
   ]
  },
  {
   "cell_type": "markdown",
   "id": "7fe580bb",
   "metadata": {},
   "source": [
    "`next(collection)`은 콜랙션 타입의 0번째 인덱스의 값을 날려 버림\n",
    "\n",
    "즉 card.csv의 0번째 인덱스인 '이용일시\t승인번호\t본인구분\t브랜드\t이용카드\t가맹점명\t이용금액\t이용구분\t매입상태'을 날림\n",
    "\n",
    "두번 하면 0과 1을 날려버림\n",
    "\n"
   ]
  },
  {
   "cell_type": "markdown",
   "id": "cc17eec1",
   "metadata": {},
   "source": [
    "## Dictionary\n"
   ]
  },
  {
   "cell_type": "code",
   "execution_count": null,
   "id": "0a010695",
   "metadata": {},
   "outputs": [
    {
     "name": "stdout",
     "output_type": "stream",
     "text": [
      "1. original dict\n",
      "dict_items([('b', 400), ('f', 300), ('a', 200), ('c', 500)])\n",
      "\n",
      "2. sort dictionary\n",
      "[('a', 200), ('b', 400), ('c', 500), ('f', 300)]\n",
      "\n",
      "3. sort dictionary itemgetter\n",
      "[('a', 200), ('f', 300), ('b', 400), ('c', 500)]\n",
      "\n",
      "4. sort dictionary itemgetter, reverse\n",
      "[('c', 500), ('b', 400), ('f', 300), ('a', 200)]\n"
     ]
    }
   ],
   "source": [
    "import operator\n",
    "\n",
    "d = {'b': 400, 'f': 300, 'a': 200, 'c': 500}\n",
    "\n",
    "print('1. original dict')\n",
    "print(d.items())\n",
    "\n",
    "print('\\n2. sort dictionary')\n",
    "f = sorted(d.items())\n",
    "print(f)\n",
    "\n",
    "print('\\n3. sort dictionary itemgetter')\n",
    "g = sorted(d.items(), key=operator.itemgetter(1))\n",
    "print(g)\n",
    "\n",
    "print('\\n4. sort dictionary itemgetter, reverse')\n",
    "r = sorted(d.items(), key=operator.itemgetter(1), reverse=True)\n",
    "print(r)"
   ]
  },
  {
   "cell_type": "code",
   "execution_count": 6,
   "id": "cc5f90be",
   "metadata": {},
   "outputs": [
    {
     "name": "stdout",
     "output_type": "stream",
     "text": [
      "{'GS  샵': 60440, 'G마켓': 201630, '11번가': 151010, '네이버파이낸셜(주)': 1395840, '(주)에이랜드 타임스퀘어': 31600, '(주)곱': 96000, '카카오페이(택시)': 78000, '포도당': 75000, '에뛰드': 26410, '미니스톱목동파라곤점': 1300, '(주)우아한형제들': 361430, '스패뉴시청지점': 61800, '티머니 개인택시': 27300, '스타벅스코리아': 100000, '전화결제': 207000, '케이데코(K Deco)': 48000, '씨제이올리브영(주)합정메세나폴': 23200, '타르타르홍대점': 23100, '더본내과의원': 159800, '나폴레옹과자점': 52600, '홈플러스익스프레스신정3점': 3990, '롯데E커머스': 16241, '(주)에스쁘아': 28500, '(주)현대백화점목동점': 415502, 'SSG.COM': 260259, 'GS25 문래미원점': 1500, '(주)라크라센타본점': 18700, '크로키닷컴': 299610, '(주)이랜드월드영등포타임스퀘어': 100, '빠레뜨한남': 56500, '(주)신세계백화점강남점': 333800, '(주)엔터식스패션쇼핑몰 강남점': 26000, '어반플랜트': 57000, '곤트란쉐리에 합정점': 7830, '(주)갈라인터내셔널': 68500, '씨제이올리브영(주)신세계': 42020, '카페마마스타임스퀘어점': 64400, '조아약국': 2300, '씨유목동11단지점': 14200, '(주)이마트  목동점': 305690, '스마일페이 (신라면세점)': 978035, '(주)디지탈명성텍': 4075, 'CU 오목교스퀘어점': 1600, '써브웨이 오목교점': 5900, '갤러리아명품관식품': 18200, '씨제이올리브영(주) 목동역점': 29600, '파리바게뜨 (양천구청점)': 3000, '(주)다른코스메틱스': 29000, '이유': 285000, '씨제이올리브영(주) 목동': 9200, '주식회사 아성다이소': 11000, '마트온누리약국': 12000, '카카오 T_카카오페이': 4000, '밸런스약국': 76000, '씨제이올리브영(주)인천공항제2': 13000, '잠바주스 인천공항T2-3호점': 14400, '(주)아워홈푸디움인천공항제2터': 8000, '배스킨라빈스  분당파크타운': 22000, '아모레퍼시픽': 40750, '한살림서울생활협동조합신정매장': 22100, '목동파리크라상': 5400, '한국철도공사 (직승인)': 82600, '(주)인터파크': 160000, '우정사업본부(우체국)': 240, '(주)스타벅스커피코리아': 40000, '파리바게뜨  양평비즈타워점': 1900, '에프알엘코리아(주)': 35700, '쿠팡': 273790, '㈜젠코스메티코스': 60800, '웃는하루치과': 23000, '(주)파리크라상 쉐이크쉑 AK분당': 14800, 'CU 대구중구문화점': 10700, '낙영찜갈비': 60000, '카카오페이(택시)1': 16400, '지에스 25 수성유원지점': 4200, '우즈베이커리카페 수성호수점': 15300, '디지비유페이택시개인1': 6300, '코레일유통(주)대구지점': 8500, '티머니 법인택시': 17300, '투썸플레이스 교대역점': 5100, '고스트요거트': 4900, '(주)교보문고': 14860, '쉐프조': 7600, '이니시스-정기과금': 100000, '투비스마트': 70000, '고봉민김밥': 7500, 'KFC서울타임스퀘어': 14400, '네이버페이': 374976, '카페마마스  강남역지점': 16800}\n"
     ]
    },
    {
     "data": {
      "image/png": "[encoded data removed]",
      "text/plain": [
       "<Figure size 640x480 with 1 Axes>"
      ]
     },
     "metadata": {},
     "output_type": "display_data"
    }
   ],
   "source": [
    "import csv\n",
    "import matplotlib.pyplot as plt\n",
    "import operator\n",
    "\n",
    "with open('./data/card.csv', encoding='utf-8') as f:\n",
    "  data = csv.reader(f)\n",
    "  next(data)\n",
    "  data = list(data)\n",
    "\n",
    "# 여기를 어떤 데이터 타입으로 해야하는지\n",
    "spending = {}\n",
    "\n",
    "for row in data:\n",
    "  if row[-1] == '전표매입':\n",
    "    store, payment = row[-4], int(row[-3])\n",
    "    if store not in spending.keys():\n",
    "      spending[store] = payment\n",
    "    else:\n",
    "      spending[store] += payment\n",
    "\n",
    "print(spending)\n",
    "\n",
    "# 여기 로직 이해하기\n",
    "top10 = sorted(spending.items(), key=operator.itemgetter(1), reverse=True)[:10]\n",
    "\n",
    "top10_store = []\n",
    "top10_amount = []\n",
    "\n",
    "# 이것도 로직 이해\n",
    "for t in top10:\n",
    "  top10_store.append(t[0])\n",
    "  top10_amount.append(t[1])\n",
    "\n",
    "plt.rc('font', family='Apple SD Gothic Neo')\n",
    "plt.title('Oct-Dec payment top 10')\n",
    "plt.barh(top10_store, top10_amount, color='b')\n",
    "plt.show()"
   ]
  },
  {
   "cell_type": "code",
   "execution_count": null,
   "id": "dbe08bfc",
   "metadata": {},
   "outputs": [],
   "source": []
  }
 ],
 "metadata": {
  "kernelspec": {
   "display_name": "univ-programming1 (3.13.7)",
   "language": "python",
   "name": "python3"
  },
  "language_info": {
   "codemirror_mode": {
    "name": "ipython",
    "version": 3
   },
   "file_extension": ".py",
   "mimetype": "text/x-python",
   "name": "python",
   "nbconvert_exporter": "python",
   "pygments_lexer": "ipython3",
   "version": "3.13.7"
  }
 },
 "nbformat": 4,
 "nbformat_minor": 5
}
