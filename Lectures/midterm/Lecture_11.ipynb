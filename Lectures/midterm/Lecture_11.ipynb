{
 "cells": [
  {
   "cell_type": "markdown",
   "id": "5090bce2",
   "metadata": {},
   "source": [
    "# 인구 분석"
   ]
  },
  {
   "cell_type": "code",
   "execution_count": null,
   "id": "10ae571c",
   "metadata": {},
   "outputs": [],
   "source": []
  }
 ],
 "metadata": {
  "language_info": {
   "name": "python"
  }
 },
 "nbformat": 4,
 "nbformat_minor": 5
}
